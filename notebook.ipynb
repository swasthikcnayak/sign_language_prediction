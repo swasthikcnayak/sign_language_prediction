{
 "cells": [
  {
   "cell_type": "code",
   "execution_count": 1,
   "metadata": {},
   "outputs": [],
   "source": [
    "%matplotlib inline\n",
    "import matplotlib.pyplot as plt\n",
    "import numpy as np\n",
    "import pandas as pd\n",
    "import tensorflow as tf\n",
    "import os\n",
    "import seaborn as sns\n",
    "from tensorflow.keras.models import Sequential\n",
    "from tensorflow.keras.layers import Dense, Conv2D , MaxPool2D , Flatten , Dropout , BatchNormalization\n",
    "from tensorflow.keras.preprocessing.image import ImageDataGenerator\n",
    "from sklearn.model_selection import train_test_split\n",
    "from sklearn.metrics import classification_report,confusion_matrix\n",
    "from tensorflow.keras.callbacks import ReduceLROnPlateau"
   ]
  },
  {
   "cell_type": "markdown",
   "metadata": {},
   "source": [
    "# train"
   ]
  },
  {
   "cell_type": "code",
   "execution_count": 17,
   "metadata": {},
   "outputs": [],
   "source": [
    "train_df=pd.read_csv('data/sign_mnist_train/sign_mnist_train.csv')\n",
    "test_df =E:\\sign_language_prediction pd.read_csv('data/sign_mnist_test/sign_mnist_test.csv')"
   ]
  },
  {
   "cell_type": "code",
   "execution_count": 18,
   "metadata": {},
   "outputs": [
    {
     "name": "stderr",
     "output_type": "stream",
     "text": [
      "D:\\Anaconda\\envs\\computervision\\lib\\site-packages\\seaborn\\_decorators.py:43: FutureWarning: Pass the following variable as a keyword arg: x. From version 0.12, the only valid positional argument will be `data`, and passing other arguments without an explicit keyword will result in an error or misinterpretation.\n",
      "  FutureWarning\n"
     ]
    },
    {
     "data": {
      "text/plain": [
       "<AxesSubplot:xlabel='label', ylabel='count'>"
      ]
     },
     "execution_count": 18,
     "metadata": {},
     "output_type": "execute_result"
    },
    {
     "data": {
      "image/png": "[encoded data removed]",
      "text/plain": [
       "<Figure size 720x720 with 1 Axes>"
      ]
     },
     "metadata": {
      "needs_background": "light"
     },
     "output_type": "display_data"
    }
   ],
   "source": [
    "plt.figure(figsize=(10,10))\n",
    "sns.countplot(train_df['label'])"
   ]
  },
  {
   "cell_type": "code",
   "execution_count": 19,
   "metadata": {},
   "outputs": [],
   "source": [
    "y_train = train_df['label']\n",
    "y = test_df['label']\n",
    "y_test = test_df['label']\n",
    "del train_df['label']\n",
    "del test_df['label']"
   ]
  },
  {
   "cell_type": "code",
   "execution_count": 5,
   "metadata": {},
   "outputs": [],
   "source": [
    "from sklearn.preprocessing import LabelBinarizer\n",
    "lb = LabelBinarizer()\n",
    "y_train = lb.fit_transform(y_train)\n",
    "y_test = lb.fit_transform(y_test)"
   ]
  },
  {
   "cell_type": "code",
   "execution_count": 6,
   "metadata": {},
   "outputs": [],
   "source": [
    "x_train = train_df.values\n",
    "x_test = test_df.values\n",
    "x_train = (x_train/255)\n",
    "x_train = x_train.reshape(-1,28,28,1)\n",
    "x_test = (x_test/255)\n",
    "x_test = x_test.reshape(-1,28,28,1)"
   ]
  },
  {
   "cell_type": "code",
   "execution_count": 7,
   "metadata": {},
   "outputs": [],
   "source": [
    "datagen = ImageDataGenerator(\n",
    "featurewise_center=False,\n",
    "samplewise_center=False,\n",
    "featurewise_std_normalization=False,\n",
    "samplewise_std_normalization=False,\n",
    "zca_whitening=False,\n",
    "rotation_range=10,\n",
    "zoom_range=0.1,\n",
    "width_shift_range=0.1,\n",
    "height_shift_range=0.1,\n",
    "horizontal_flip=False,\n",
    "vertical_flip=False)\n",
    "datagen.fit(x_train)"
   ]
  },
  {
   "cell_type": "code",
   "execution_count": 8,
   "metadata": {},
   "outputs": [],
   "source": [
    "learning_rate_reduction = ReduceLROnPlateau(monitor='val_accuracy', patience = 2, verbose=1,factor=0.5, min_lr=0.00001)"
   ]
  },
  {
   "cell_type": "code",
   "execution_count": 9,
   "metadata": {},
   "outputs": [
    {
     "name": "stdout",
     "output_type": "stream",
     "text": [
      "Model: \"sequential\"\n",
      "_________________________________________________________________\n",
      "Layer (type)                 Output Shape              Param #   \n",
      "=================================================================\n",
      "conv2d (Conv2D)              (None, 28, 28, 64)        640       \n",
      "_________________________________________________________________\n",
      "batch_normalization (BatchNo (None, 28, 28, 64)        256       \n",
      "_________________________________________________________________\n",
      "max_pooling2d (MaxPooling2D) (None, 14, 14, 64)        0         \n",
      "_________________________________________________________________\n",
      "conv2d_1 (Conv2D)            (None, 14, 14, 32)        18464     \n",
      "_________________________________________________________________\n",
      "batch_normalization_1 (Batch (None, 14, 14, 32)        128       \n",
      "_________________________________________________________________\n",
      "max_pooling2d_1 (MaxPooling2 (None, 7, 7, 32)          0         \n",
      "_________________________________________________________________\n",
      "conv2d_2 (Conv2D)            (None, 7, 7, 16)          4624      \n",
      "_________________________________________________________________\n",
      "batch_normalization_2 (Batch (None, 7, 7, 16)          64        \n",
      "_________________________________________________________________\n",
      "max_pooling2d_2 (MaxPooling2 (None, 4, 4, 16)          0         \n",
      "_________________________________________________________________\n",
      "flatten (Flatten)            (None, 256)               0         \n",
      "_________________________________________________________________\n",
      "dense (Dense)                (None, 512)               131584    \n",
      "_________________________________________________________________\n",
      "dropout (Dropout)            (None, 512)               0         \n",
      "_________________________________________________________________\n",
      "dense_1 (Dense)              (None, 128)               65664     \n",
      "_________________________________________________________________\n",
      "dense_2 (Dense)              (None, 24)                3096      \n",
      "=================================================================\n",
      "Total params: 224,520\n",
      "Trainable params: 224,296\n",
      "Non-trainable params: 224\n",
      "_________________________________________________________________\n"
     ]
    }
   ],
   "source": [
    "model = Sequential()\n",
    "model.add(Conv2D(64,(3,3),strides=1,padding='same',activation='relu',input_shape=(28,28,1)))\n",
    "model.add(BatchNormalization())\n",
    "model.add(MaxPool2D((2,2),strides=2,padding='same'))\n",
    "model.add(Conv2D(32,(3,3),strides=1,padding='same',activation='relu'))\n",
    "model.add(BatchNormalization())\n",
    "model.add(MaxPool2D((2,2),strides=2,padding='same'))\n",
    "model.add(Conv2D(16,(3,3),strides=1,padding='same',activation='relu'))\n",
    "model.add(BatchNormalization())\n",
    "model.add(MaxPool2D((2,2),strides=2,padding='same'))\n",
    "model.add(Flatten())\n",
    "model.add(Dense(512,activation='relu'))\n",
    "model.add(Dropout(0.2))\n",
    "model.add(Dense(128,activation='relu'))\n",
    "model.add(Dense(24,activation='softmax'))\n",
    "model.compile(optimizer='adam',loss='categorical_crossentropy',metrics=['accuracy'])\n",
    "model.summary()"
   ]
  },
  {
   "cell_type": "code",
   "execution_count": 10,
   "metadata": {},
   "outputs": [
    {
     "name": "stdout",
     "output_type": "stream",
     "text": [
      "WARNING:tensorflow:sample_weight modes were coerced from\n",
      "  ...\n",
      "    to  \n",
      "  ['...']\n",
      "Train for 215 steps, validate on 7172 samples\n",
      "Epoch 1/20\n",
      "215/215 [==============================] - 38s 179ms/step - loss: 0.9858 - accuracy: 0.6887 - val_loss: 2.7313 - val_accuracy: 0.1016\n",
      "Epoch 2/20\n",
      "215/215 [==============================] - 22s 102ms/step - loss: 0.1888 - accuracy: 0.9371 - val_loss: 0.6578 - val_accuracy: 0.7758\n",
      "Epoch 3/20\n",
      "215/215 [==============================] - 23s 105ms/step - loss: 0.0960 - accuracy: 0.9680 - val_loss: 0.1059 - val_accuracy: 0.9681\n",
      "Epoch 4/20\n",
      "215/215 [==============================] - 26s 121ms/step - loss: 0.0623 - accuracy: 0.9790 - val_loss: 0.2484 - val_accuracy: 0.9149\n",
      "Epoch 5/20\n",
      "214/215 [============================>.] - ETA: 0s - loss: 0.0507 - accuracy: 0.9836\n",
      "Epoch 00005: ReduceLROnPlateau reducing learning rate to 0.0005000000237487257.\n",
      "215/215 [==============================] - 22s 103ms/step - loss: 0.0505 - accuracy: 0.9837 - val_loss: 0.6445 - val_accuracy: 0.8388\n",
      "Epoch 6/20\n",
      "215/215 [==============================] - 21s 96ms/step - loss: 0.0276 - accuracy: 0.9911 - val_loss: 0.0124 - val_accuracy: 0.9974\n",
      "Epoch 7/20\n",
      "215/215 [==============================] - 20s 93ms/step - loss: 0.0179 - accuracy: 0.9944 - val_loss: 0.0186 - val_accuracy: 0.9936\n",
      "Epoch 8/20\n",
      "214/215 [============================>.] - ETA: 0s - loss: 0.0189 - accuracy: 0.9941\n",
      "Epoch 00008: ReduceLROnPlateau reducing learning rate to 0.0002500000118743628.\n",
      "215/215 [==============================] - 21s 97ms/step - loss: 0.0189 - accuracy: 0.9941 - val_loss: 0.0411 - val_accuracy: 0.9854\n",
      "Epoch 9/20\n",
      "215/215 [==============================] - 21s 98ms/step - loss: 0.0109 - accuracy: 0.9976 - val_loss: 0.0062 - val_accuracy: 0.9983\n",
      "Epoch 10/20\n",
      "215/215 [==============================] - 22s 100ms/step - loss: 0.0096 - accuracy: 0.9972 - val_loss: 0.0124 - val_accuracy: 0.9974\n",
      "Epoch 11/20\n",
      "214/215 [============================>.] - ETA: 0s - loss: 0.0086 - accuracy: 0.9976 ETA: 0s - loss: 0.0087 - ac\n",
      "Epoch 00011: ReduceLROnPlateau reducing learning rate to 0.0001250000059371814.\n",
      "215/215 [==============================] - 21s 96ms/step - loss: 0.0087 - accuracy: 0.9975 - val_loss: 0.0064 - val_accuracy: 0.9980\n",
      "Epoch 12/20\n",
      "215/215 [==============================] - 21s 99ms/step - loss: 0.0086 - accuracy: 0.9973 - val_loss: 0.0068 - val_accuracy: 0.9978\n",
      "Epoch 13/20\n",
      "214/215 [============================>.] - ETA: 0s - loss: 0.0064 - accuracy: 0.9985\n",
      "Epoch 00013: ReduceLROnPlateau reducing learning rate to 6.25000029685907e-05.\n",
      "215/215 [==============================] - 23s 106ms/step - loss: 0.0064 - accuracy: 0.9985 - val_loss: 0.0053 - val_accuracy: 0.9983\n",
      "Epoch 14/20\n",
      "215/215 [==============================] - 20s 93ms/step - loss: 0.0063 - accuracy: 0.9983 - val_loss: 0.0048 - val_accuracy: 0.9982\n",
      "Epoch 15/20\n",
      "215/215 [==============================] - 24s 110ms/step - loss: 0.0055 - accuracy: 0.9986 - val_loss: 0.0043 - val_accuracy: 0.9986\n",
      "Epoch 16/20\n",
      "215/215 [==============================] - 20s 95ms/step - loss: 0.0051 - accuracy: 0.9983 - val_loss: 0.0062 - val_accuracy: 0.9974\n",
      "Epoch 17/20\n",
      "215/215 [==============================] - 22s 103ms/step - loss: 0.0051 - accuracy: 0.9988 - val_loss: 0.0040 - val_accuracy: 0.9990\n",
      "Epoch 18/20\n",
      "215/215 [==============================] - 20s 93ms/step - loss: 0.0045 - accuracy: 0.9990 - val_loss: 0.0035 - val_accuracy: 0.9993\n",
      "Epoch 19/20\n",
      "215/215 [==============================] - 21s 98ms/step - loss: 0.0045 - accuracy: 0.9988 - val_loss: 0.0021 - val_accuracy: 0.9999\n",
      "Epoch 20/20\n",
      "215/215 [==============================] - 21s 98ms/step - loss: 0.0051 - accuracy: 0.9985 - val_loss: 0.0034 - val_accuracy: 0.9987\n"
     ]
    }
   ],
   "source": [
    "Model = model.fit(datagen.flow(x_train,y_train,batch_size=128),epochs=20,validation_data=(x_test,y_test),callbacks=[learning_rate_reduction])"
   ]
  },
  {
   "cell_type": "code",
   "execution_count": 11,
   "metadata": {},
   "outputs": [
    {
     "data": {
      "text/plain": [
       "array([ 6,  5, 10,  0,  3], dtype=int64)"
      ]
     },
     "execution_count": 11,
     "metadata": {},
     "output_type": "execute_result"
    }
   ],
   "source": [
    "predictions = model.predict_classes(x_test)\n",
    "for i in range(len(predictions)):\n",
    "    if(predictions[i] >= 9):\n",
    "        predictions[i] += 1\n",
    "predictions[:5]"
   ]
  },
  {
   "cell_type": "code",
   "execution_count": 20,
   "metadata": {},
   "outputs": [],
   "source": [
    "cm = confusion_matrix(y,predictions)"
   ]
  },
  {
   "cell_type": "code",
   "execution_count": 22,
   "metadata": {},
   "outputs": [],
   "source": [
    "cm = pd.DataFrame(cm , index = [i for i in range(25) if i != 9] , columns = [i for i in range(25) if i != 9])"
   ]
  },
  {
   "cell_type": "code",
   "execution_count": null,
   "metadata": {},
   "outputs": [],
   "source": [
    "plt.figure(figsize = (15,15))\n",
    "sns.heatmap(cm,cmap= \"Blues\", linecolor = 'black' , linewidth = 1 , annot = True, fmt='')"
   ]
  },
  {
   "cell_type": "code",
   "execution_count": 16,
   "metadata": {},
   "outputs": [],
   "source": [
    "model.save(\"model.h5\")"
   ]
  },
  {
   "cell_type": "code",
   "execution_count": null,
   "metadata": {},
   "outputs": [],
   "source": []
  }
 ],
 "metadata": {
  "kernelspec": {
   "display_name": "Python 3",
   "language": "python",
   "name": "python3"
  },
  "language_info": {
   "codemirror_mode": {
    "name": "ipython",
    "version": 3
   },
   "file_extension": ".py",
   "mimetype": "text/x-python",
   "name": "python",
   "nbconvert_exporter": "python",
   "pygments_lexer": "ipython3",
   "version": "3.7.9"
  }
 },
 "nbformat": 4,
 "nbformat_minor": 4
}

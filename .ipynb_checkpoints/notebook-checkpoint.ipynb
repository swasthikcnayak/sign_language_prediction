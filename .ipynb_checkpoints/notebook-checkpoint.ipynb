{
 "cells": [
  {
   "cell_type": "code",
   "execution_count": 24,
   "metadata": {},
   "outputs": [],
   "source": [
    "%matplotlib inline\n",
    "import matplotlib.pyplot as plt\n",
    "import numpy as np\n",
    "import pandas as pd\n",
    "import tensorflow as tf\n",
    "import os\n",
    "import seaborn as sns\n",
    "from tensorflow.keras.models import Sequential\n",
    "from tensorflow.keras.layers import Dense, Conv2D , MaxPool2D , Flatten , Dropout , BatchNormalization\n",
    "from tensorflow.keras.preprocessing.image import ImageDataGenerator\n",
    "from sklearn.model_selection import train_test_split\n",
    "from sklearn.metrics import classification_report,confusion_matrix\n",
    "from tensorflow.keras.callbacks import ReduceLROnPlateau"
   ]
  },
  {
   "cell_type": "markdown",
   "metadata": {},
   "source": [
    "# train"
   ]
  },
  {
   "cell_type": "code",
   "execution_count": 25,
   "metadata": {},
   "outputs": [],
   "source": [
    "train_df=pd.read_csv('data/sign_mnist_train/sign_mnist_train.csv')\n",
    "test_df = pd.read_csv('data/sign_mnist_test/sign_mnist_test.csv')"
   ]
  },
  {
   "cell_type": "code",
   "execution_count": 26,
   "metadata": {},
   "outputs": [
    {
     "name": "stderr",
     "output_type": "stream",
     "text": [
      "D:\\Anaconda\\envs\\computervision\\lib\\site-packages\\seaborn\\_decorators.py:43: FutureWarning: Pass the following variable as a keyword arg: x. From version 0.12, the only valid positional argument will be `data`, and passing other arguments without an explicit keyword will result in an error or misinterpretation.\n",
      "  FutureWarning\n"
     ]
    },
    {
     "data": {
      "text/plain": [
       "<AxesSubplot:xlabel='label', ylabel='count'>"
      ]
     },
     "execution_count": 26,
     "metadata": {},
     "output_type": "execute_result"
    },
    {
     "data": {
      "image/png": "[encoded data removed]",
      "text/plain": [
       "<Figure size 720x720 with 1 Axes>"
      ]
     },
     "metadata": {
      "needs_background": "light"
     },
     "output_type": "display_data"
    }
   ],
   "source": [
    "plt.figure(figsize=(10,10))\n",
    "sns.countplot(train_df['label'])"
   ]
  },
  {
   "cell_type": "code",
   "execution_count": 27,
   "metadata": {},
   "outputs": [],
   "source": [
    "y_train = train_df['label']\n",
    "y_test = test_df['label']\n",
    "del train_df['label']\n",
    "del test_df['label']"
   ]
  },
  {
   "cell_type": "code",
   "execution_count": 28,
   "metadata": {},
   "outputs": [],
   "source": [
    "from sklearn.preprocessing import LabelBinarizer\n",
    "lb = LabelBinarizer()\n",
    "y_train = lb.fit_transform(y_train)\n",
    "y_test = lb.fit_transform(y_test)"
   ]
  },
  {
   "cell_type": "code",
   "execution_count": 29,
   "metadata": {},
   "outputs": [],
   "source": [
    "x_train = train_df.values\n",
    "x_test = test_df.values\n",
    "x_train = (x_train/255)\n",
    "x_train = x_train.reshape(-1,28,28,1)\n",
    "x_test = (x_test/255)\n",
    "x_test = x_test.reshape(-1,28,28,1)"
   ]
  },
  {
   "cell_type": "code",
   "execution_count": 30,
   "metadata": {},
   "outputs": [],
   "source": [
    "datagen = ImageDataGenerator(\n",
    "featurewise_center=False,\n",
    "samplewise_center=False,\n",
    "featurewise_std_normalization=False,\n",
    "samplewise_std_normalization=False,\n",
    "zca_whitening=False,\n",
    "rotation_range=10,\n",
    "zoom_range=0.1,\n",
    "width_shift_range=0.1,\n",
    "height_shift_range=0.1,\n",
    "horizontal_flip=False,\n",
    "vertical_flip=False)\n",
    "datagen.fit(x_train)"
   ]
  },
  {
   "cell_type": "code",
   "execution_count": 31,
   "metadata": {},
   "outputs": [],
   "source": [
    "learning_rate_reduction = ReduceLROnPlateau(monitor='val_accuracy', patience = 2, verbose=1,factor=0.5, min_lr=0.00001)"
   ]
  },
  {
   "cell_type": "code",
   "execution_count": 39,
   "metadata": {},
   "outputs": [
    {
     "name": "stdout",
     "output_type": "stream",
     "text": [
      "Model: \"sequential_7\"\n",
      "_________________________________________________________________\n",
      "Layer (type)                 Output Shape              Param #   \n",
      "=================================================================\n",
      "conv2d_20 (Conv2D)           (None, 28, 28, 64)        640       \n",
      "_________________________________________________________________\n",
      "batch_normalization_20 (Batc (None, 28, 28, 64)        256       \n",
      "_________________________________________________________________\n",
      "max_pooling2d_19 (MaxPooling (None, 14, 14, 64)        0         \n",
      "_________________________________________________________________\n",
      "conv2d_21 (Conv2D)           (None, 14, 14, 32)        18464     \n",
      "_________________________________________________________________\n",
      "batch_normalization_21 (Batc (None, 14, 14, 32)        128       \n",
      "_________________________________________________________________\n",
      "max_pooling2d_20 (MaxPooling (None, 7, 7, 32)          0         \n",
      "_________________________________________________________________\n",
      "conv2d_22 (Conv2D)           (None, 7, 7, 16)          4624      \n",
      "_________________________________________________________________\n",
      "batch_normalization_22 (Batc (None, 7, 7, 16)          64        \n",
      "_________________________________________________________________\n",
      "max_pooling2d_21 (MaxPooling (None, 4, 4, 16)          0         \n",
      "_________________________________________________________________\n",
      "flatten_6 (Flatten)          (None, 256)               0         \n",
      "_________________________________________________________________\n",
      "dense_18 (Dense)             (None, 512)               131584    \n",
      "_________________________________________________________________\n",
      "dropout_6 (Dropout)          (None, 512)               0         \n",
      "_________________________________________________________________\n",
      "dense_19 (Dense)             (None, 128)               65664     \n",
      "_________________________________________________________________\n",
      "dense_20 (Dense)             (None, 24)                3096      \n",
      "=================================================================\n",
      "Total params: 224,520\n",
      "Trainable params: 224,296\n",
      "Non-trainable params: 224\n",
      "_________________________________________________________________\n"
     ]
    }
   ],
   "source": [
    "model = Sequential()\n",
    "model.add(Conv2D(64,(3,3),strides=1,padding='same',activation='relu',input_shape=(28,28,1)))\n",
    "model.add(BatchNormalization())\n",
    "model.add(MaxPool2D((2,2),strides=2,padding='same'))\n",
    "model.add(Conv2D(32,(3,3),strides=1,padding='same',activation='relu'))\n",
    "model.add(BatchNormalization())\n",
    "model.add(MaxPool2D((2,2),strides=2,padding='same'))\n",
    "model.add(Conv2D(16,(3,3),strides=1,padding='same',activation='relu'))\n",
    "model.add(BatchNormalization())\n",
    "model.add(MaxPool2D((2,2),strides=2,padding='same'))\n",
    "model.add(Flatten())\n",
    "model.add(Dense(512,activation='relu'))\n",
    "model.add(Dropout(0.2))\n",
    "model.add(Dense(128,activation='relu'))\n",
    "model.add(Dense(24,activation='softmax'))\n",
    "model.compile(optimizer='adam',loss='categorical_crossentropy',metrics=['accuracy'])\n",
    "model.summary()"
   ]
  },
  {
   "cell_type": "code",
   "execution_count": 40,
   "metadata": {},
   "outputs": [
    {
     "name": "stdout",
     "output_type": "stream",
     "text": [
      "WARNING:tensorflow:sample_weight modes were coerced from\n",
      "  ...\n",
      "    to  \n",
      "  ['...']\n",
      "Train for 215 steps, validate on 7172 samples\n",
      "Epoch 1/20\n",
      "215/215 [==============================] - 11s 50ms/step - loss: 1.0000 - accuracy: 0.6824 - val_loss: 3.2210 - val_accuracy: 0.2355\n",
      "Epoch 2/20\n",
      "215/215 [==============================] - 22s 101ms/step - loss: 0.1943 - accuracy: 0.9347 - val_loss: 0.8698 - val_accuracy: 0.7264\n",
      "Epoch 3/20\n",
      "215/215 [==============================] - 25s 117ms/step - loss: 0.1050 - accuracy: 0.9655 - val_loss: 0.1492 - val_accuracy: 0.9479\n",
      "Epoch 4/20\n",
      "215/215 [==============================] - 25s 117ms/step - loss: 0.0651 - accuracy: 0.9785 - val_loss: 0.0333 - val_accuracy: 0.9888\n",
      "Epoch 5/20\n",
      "215/215 [==============================] - 25s 117ms/step - loss: 0.0491 - accuracy: 0.9840 - val_loss: 0.0296 - val_accuracy: 0.9912\n",
      "Epoch 6/20\n",
      "215/215 [==============================] - 25s 115ms/step - loss: 0.0408 - accuracy: 0.9868 - val_loss: 0.1632 - val_accuracy: 0.9462\n",
      "Epoch 7/20\n",
      "213/215 [============================>.] - ETA: 0s - loss: 0.0380 - accuracy: 0.9867 ETA: 0s - loss: 0.0377 - accuracy\n",
      "Epoch 00007: ReduceLROnPlateau reducing learning rate to 0.0005000000237487257.\n",
      "215/215 [==============================] - 20s 92ms/step - loss: 0.0378 - accuracy: 0.9867 - val_loss: 0.1595 - val_accuracy: 0.9480\n",
      "Epoch 8/20\n",
      "215/215 [==============================] - 18s 86ms/step - loss: 0.0151 - accuracy: 0.9952 - val_loss: 0.0084 - val_accuracy: 0.9978\n",
      "Epoch 9/20\n",
      "215/215 [==============================] - 14s 63ms/step - loss: 0.0127 - accuracy: 0.9957 - val_loss: 0.0078 - val_accuracy: 0.9968\n",
      "Epoch 10/20\n",
      "214/215 [============================>.] - ETA: 0s - loss: 0.0119 - accuracy: 0.9963\n",
      "Epoch 00010: ReduceLROnPlateau reducing learning rate to 0.0002500000118743628.\n",
      "215/215 [==============================] - 15s 68ms/step - loss: 0.0119 - accuracy: 0.9963 - val_loss: 0.0802 - val_accuracy: 0.9713\n",
      "Epoch 11/20\n",
      "215/215 [==============================] - 11s 53ms/step - loss: 0.0079 - accuracy: 0.9977 - val_loss: 0.0030 - val_accuracy: 0.9992\n",
      "Epoch 12/20\n",
      "215/215 [==============================] - 13s 60ms/step - loss: 0.0058 - accuracy: 0.9985 - val_loss: 0.0069 - val_accuracy: 0.9972\n",
      "Epoch 13/20\n",
      "215/215 [==============================] - 14s 67ms/step - loss: 0.0059 - accuracy: 0.9983 - val_loss: 0.0017 - val_accuracy: 0.9997\n",
      "Epoch 14/20\n",
      "215/215 [==============================] - 14s 65ms/step - loss: 0.0058 - accuracy: 0.9982 - val_loss: 0.0150 - val_accuracy: 0.9937\n",
      "Epoch 15/20\n",
      "214/215 [============================>.] - ETA: 0s - loss: 0.0062 - accuracy: 0.9981\n",
      "Epoch 00015: ReduceLROnPlateau reducing learning rate to 0.0001250000059371814.\n",
      "215/215 [==============================] - 12s 56ms/step - loss: 0.0062 - accuracy: 0.9981 - val_loss: 0.0097 - val_accuracy: 0.9964\n",
      "Epoch 16/20\n",
      "215/215 [==============================] - 12s 57ms/step - loss: 0.0050 - accuracy: 0.9985 - val_loss: 0.0013 - val_accuracy: 0.9996\n",
      "Epoch 17/20\n",
      "214/215 [============================>.] - ETA: 0s - loss: 0.0056 - accuracy: 0.9985 ETA: 1s - l\n",
      "Epoch 00017: ReduceLROnPlateau reducing learning rate to 6.25000029685907e-05.\n",
      "215/215 [==============================] - 12s 55ms/step - loss: 0.0056 - accuracy: 0.9985 - val_loss: 0.0015 - val_accuracy: 0.9997\n",
      "Epoch 18/20\n",
      "215/215 [==============================] - 12s 54ms/step - loss: 0.0035 - accuracy: 0.9993 - val_loss: 0.0020 - val_accuracy: 1.0000\n",
      "Epoch 19/20\n",
      "215/215 [==============================] - 12s 55ms/step - loss: 0.0033 - accuracy: 0.9992 - val_loss: 0.0015 - val_accuracy: 0.9999\n",
      "Epoch 20/20\n",
      "214/215 [============================>.] - ETA: 0s - loss: 0.0036 - accuracy: 0.9990\n",
      "Epoch 00020: ReduceLROnPlateau reducing learning rate to 3.125000148429535e-05.\n",
      "215/215 [==============================] - 12s 56ms/step - loss: 0.0036 - accuracy: 0.9991 - val_loss: 0.0042 - val_accuracy: 0.9975\n"
     ]
    }
   ],
   "source": [
    "Model = model.fit(datagen.flow(x_train,y_train,batch_size=128),epochs=20,validation_data=(x_test,y_test),callbacks=[learning_rate_reduction])"
   ]
  },
  {
   "cell_type": "code",
   "execution_count": 42,
   "metadata": {},
   "outputs": [
    {
     "data": {
      "text/plain": [
       "array([ 6,  5, 10,  0,  3], dtype=int64)"
      ]
     },
     "execution_count": 42,
     "metadata": {},
     "output_type": "execute_result"
    }
   ],
   "source": [
    "predictions = model.predict_classes(x_test)\n",
    "for i in range(len(predictions)):\n",
    "    if(predictions[i] >= 9):\n",
    "        predictions[i] += 1\n",
    "predictions[:5]"
   ]
  },
  {
   "cell_type": "code",
   "execution_count": 43,
   "metadata": {},
   "outputs": [],
   "source": [
    "cm = confusion_matrix(y,predictions)"
   ]
  },
  {
   "cell_type": "code",
   "execution_count": 48,
   "metadata": {},
   "outputs": [],
   "source": [
    "cm = pd.DataFrame(cm , index = [i for i in range(26) if i != 9] , columns = [i for i in range(26) if i != 9])"
   ]
  },
  {
   "cell_type": "code",
   "execution_count": 49,
   "metadata": {},
   "outputs": [
    {
     "data": {
      "text/plain": [
       "<AxesSubplot:>"
      ]
     },
     "execution_count": 49,
     "metadata": {},
     "output_type": "execute_result"
    },
    {
     "data": {
      "image/png": "[encoded data removed]",
      "text/plain": [
       "<Figure size 1080x1080 with 2 Axes>"
      ]
     },
     "metadata": {
      "needs_background": "light"
     },
     "output_type": "display_data"
    }
   ],
   "source": [
    "plt.figure(figsize = (15,15))\n",
    "sns.heatmap(cm,cmap= \"Blues\", linecolor = 'black' , linewidth = 1 , annot = True, fmt='')"
   ]
  },
  {
   "cell_type": "code",
   "execution_count": null,
   "metadata": {},
   "outputs": [],
   "source": []
  }
 ],
 "metadata": {
  "kernelspec": {
   "display_name": "Python 3",
   "language": "python",
   "name": "python3"
  },
  "language_info": {
   "codemirror_mode": {
    "name": "ipython",
    "version": 3
   },
   "file_extension": ".py",
   "mimetype": "text/x-python",
   "name": "python",
   "nbconvert_exporter": "python",
   "pygments_lexer": "ipython3",
   "version": "3.7.9"
  }
 },
 "nbformat": 4,
 "nbformat_minor": 4
}
